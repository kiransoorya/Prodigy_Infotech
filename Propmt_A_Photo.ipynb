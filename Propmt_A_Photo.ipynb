{
 "cells": [
  {
   "cell_type": "code",
   "execution_count": null,
   "id": "90a36bbd",
   "metadata": {},
   "outputs": [],
   "source": [
    "!pip install -q --upgrade keras-cv\n",
    "!pip install -q --upgrade keras\n",
    "!pip uninstall tensorflow\n",
    "!pip install tensorflow==2.11.0\n",
    "import keras_cv\n",
    "import keras\n",
    "import matplotlib.pyplot as plt"
   ]
  },
  {
   "cell_type": "code",
   "execution_count": null,
   "id": "f88359e4",
   "metadata": {},
   "outputs": [],
   "source": [
    "keras.mixed_precision.set_global_policy(\"mixed_float16\")\n",
    "model = keras_cv.models.StableDiffusion(jit_compile=True)"
   ]
  },
  {
   "cell_type": "code",
   "execution_count": null,
   "id": "0aba3280-fab3-4b74-9f39-7b58ea10e184",
   "metadata": {},
   "outputs": [],
   "source": [
    "no_of_images = int(input(\"Enter number of images {<10}\"))\n",
    "print(\"Type STOP to stop propmting\")\n",
    "user_prompts = list()\n",
    "while True:\n",
    "    user_propmt = input(\"Enter a prompt and generate images based on Stable Diffusion :\")\n",
    "    if user_propmt == \"STOP\":\n",
    "        break\n",
    "    else:\n",
    "        user_prompts.append(user_propmt)\n",
    "images = model.text_to_image(\n",
    "    \",\".join(user_prompts),\n",
    "    batch_size=no_of_images,\n",
    ")\n",
    "plot_images(images)"
   ]
  }
 ],
 "metadata": {
  "kernelspec": {
   "display_name": "Python 3 (ipykernel)",
   "language": "python",
   "name": "python3"
  },
  "language_info": {
   "codemirror_mode": {
    "name": "ipython",
    "version": 3
   },
   "file_extension": ".py",
   "mimetype": "text/x-python",
   "name": "python",
   "nbconvert_exporter": "python",
   "pygments_lexer": "ipython3",
   "version": "3.8.19"
  }
 },
 "nbformat": 4,
 "nbformat_minor": 5
}
